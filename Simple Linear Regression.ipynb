{
 "cells": [
  {
   "cell_type": "markdown",
   "id": "59ec6d02",
   "metadata": {},
   "source": [
    "<p style=\"font-family: 'Georgia', serif; font-size: 3rem; color: #2e8b57; text-align: center; margin: 0; text-shadow: 2px 2px 4px rgba(0, 0, 0, 0.3); background-color: #e0ffff; padding: 20px; border-radius: 20px; border: 7px solid #4682b4; width: 95%;\">\n",
    "    <span style=\"font-weight: bold; color: #2e8b57; animation: pulse 2s infinite;\">Simple Linear Regression</span>\n",
    "    <span style=\"font-style: italic; color: #4682b4; animation: pulse 2s infinite;\"></span>\n",
    "    <span style=\"font-weight: bold; color: #4682b4;\"></span>\n",
    "</p>\n"
   ]
  },
  {
   "cell_type": "markdown",
   "id": "157c84f8",
   "metadata": {},
   "source": [
    "I am working on a project using simple linear regression to predict a response based on a single feature. It's one of the first machine learning models that enthusiasts learn about. In linear regression, we assume that the dependent variable (y) and the independent variable (x) have a linear relationship. Therefore, I aim to find a linear function that can accurately predict the response value (y) based on the feature or independent variable (x).\n",
    "\n",
    "When performing simple linear regression, I am keeping in mind these key points:\n",
    "- **Linear Relationship:** Ensuring x and y have a linear relationship.\n",
    "- **Data Quality:** Checking for missing values and outliers.\n",
    "- **Assumptions:** Verifying linearity, independence, homoscedasticity, and normality of residuals.\n",
    "- **Coefficients Interpretation:** Understanding the meaning of the intercept and slope.\n",
    "- **Goodness of Fit:** Using metrics like R-squared to evaluate the model.\n",
    "- **Residual Analysis:** Checking residual plots for patterns.\n",
    "- **Avoid Overfitting:** Ensuring the model generalizes well.\n",
    "- **Data Transformation:** Transforming variables if needed for linearity.\n",
    "- **Domain Knowledge:** Using domain knowledge to make sense of the model.\n",
    "\n",
    "**About the data:**\n",
    "In this specific dataset, there are only 2 columns: the first one is Age, and the second one is Premium. I am using this dataset to practice simple linear regression and make predictions. By applying simple linear regression, I aim to predict the Premium amount based on Age."
   ]
  },
  {
   "cell_type": "markdown",
   "id": "6fe8ee1b",
   "metadata": {},
   "source": [
    "<p style=\"font-family: 'Georgia', serif; font-size: 3rem; color: #2e8b57; text-align: center; margin: 0; text-shadow: 2px 2px 4px rgba(0, 0, 0, 0.3); background-color: #e0ffff; padding: 20px; border-radius: 20px; border: 7px solid #4682b4; width: 95%;\">\n",
    "    <span style=\"font-weight: bold; color: #2e8b57; animation: pulse 2s infinite;\">Importing Libraries</span>\n",
    "    <span style=\"font-style: italic; color: #4682b4; animation: pulse 2s infinite;\"></span>\n",
    "    <span style=\"font-weight: bold; color: #4682b4;\"></span>\n",
    "</p>\n"
   ]
  },
  {
   "cell_type": "code",
   "execution_count": 1,
   "id": "dae148f2",
   "metadata": {},
   "outputs": [],
   "source": [
    "import pandas as pd \n",
    "import matplotlib.pyplot as plt\n",
    "import warnings\n",
    "warnings.filterwarnings('ignore')"
   ]
  },
  {
   "cell_type": "markdown",
   "id": "5ccd9123",
   "metadata": {},
   "source": [
    "<p style=\"font-family: 'Georgia', serif; font-size: 3rem; color: #2e8b57; text-align: center; margin: 0; text-shadow: 2px 2px 4px rgba(0, 0, 0, 0.3); background-color: #e0ffff; padding: 20px; border-radius: 20px; border: 7px solid #4682b4; width: 95%;\">\n",
    "    <span style=\"font-weight: bold; color: #2e8b57; animation: pulse 2s infinite;\">Loading the Dataset </span>\n",
    "    <span style=\"font-style: italic; color: #4682b4; animation: pulse 2s infinite;\"></span>\n",
    "    <span style=\"font-weight: bold; color: #4682b4;\"></span>\n",
    "</p>\n"
   ]
  },
  {
   "cell_type": "code",
   "execution_count": 2,
   "id": "a0da03eb",
   "metadata": {},
   "outputs": [],
   "source": [
    "df=pd.read_csv(\"simplelinearregression.csv\")"
   ]
  },
  {
   "cell_type": "markdown",
   "id": "5d21c927",
   "metadata": {},
   "source": [
    "<p style=\"font-family: 'Georgia', serif; font-size: 3rem; color: #2e8b57; text-align: center; margin: 0; text-shadow: 2px 2px 4px rgba(0, 0, 0, 0.3); background-color: #e0ffff; padding: 20px; border-radius: 20px; border: 7px solid #4682b4; width: 95%;\">\n",
    "    <span style=\"font-weight: bold; color: #2e8b57; animation: pulse 2s infinite;\">Data Exploration</span>\n",
    "    <span style=\"font-style: italic; color: #4682b4; animation: pulse 2s infinite;\"></span>\n",
    "    <span style=\"font-weight: bold; color: #4682b4;\"></span>\n",
    "</p>\n"
   ]
  },
  {
   "cell_type": "code",
   "execution_count": 3,
   "id": "63770123",
   "metadata": {},
   "outputs": [
    {
     "data": {
      "text/html": [
       "<div>\n",
       "<style scoped>\n",
       "    .dataframe tbody tr th:only-of-type {\n",
       "        vertical-align: middle;\n",
       "    }\n",
       "\n",
       "    .dataframe tbody tr th {\n",
       "        vertical-align: top;\n",
       "    }\n",
       "\n",
       "    .dataframe thead th {\n",
       "        text-align: right;\n",
       "    }\n",
       "</style>\n",
       "<table border=\"1\" class=\"dataframe\">\n",
       "  <thead>\n",
       "    <tr style=\"text-align: right;\">\n",
       "      <th></th>\n",
       "      <th>Age</th>\n",
       "      <th>Premium</th>\n",
       "    </tr>\n",
       "  </thead>\n",
       "  <tbody>\n",
       "    <tr>\n",
       "      <th>0</th>\n",
       "      <td>18</td>\n",
       "      <td>10000</td>\n",
       "    </tr>\n",
       "    <tr>\n",
       "      <th>1</th>\n",
       "      <td>22</td>\n",
       "      <td>15000</td>\n",
       "    </tr>\n",
       "    <tr>\n",
       "      <th>2</th>\n",
       "      <td>23</td>\n",
       "      <td>18000</td>\n",
       "    </tr>\n",
       "    <tr>\n",
       "      <th>3</th>\n",
       "      <td>26</td>\n",
       "      <td>21000</td>\n",
       "    </tr>\n",
       "    <tr>\n",
       "      <th>4</th>\n",
       "      <td>28</td>\n",
       "      <td>24000</td>\n",
       "    </tr>\n",
       "  </tbody>\n",
       "</table>\n",
       "</div>"
      ],
      "text/plain": [
       "   Age  Premium\n",
       "0   18    10000\n",
       "1   22    15000\n",
       "2   23    18000\n",
       "3   26    21000\n",
       "4   28    24000"
      ]
     },
     "execution_count": 3,
     "metadata": {},
     "output_type": "execute_result"
    }
   ],
   "source": [
    "df.head()"
   ]
  },
  {
   "cell_type": "code",
   "execution_count": 4,
   "id": "bf1c4693",
   "metadata": {},
   "outputs": [
    {
     "data": {
      "text/plain": [
       "(7, 2)"
      ]
     },
     "execution_count": 4,
     "metadata": {},
     "output_type": "execute_result"
    }
   ],
   "source": [
    "df.shape"
   ]
  },
  {
   "cell_type": "code",
   "execution_count": 5,
   "id": "bf8de380",
   "metadata": {},
   "outputs": [
    {
     "data": {
      "text/plain": [
       "Age        0\n",
       "Premium    0\n",
       "dtype: int64"
      ]
     },
     "execution_count": 5,
     "metadata": {},
     "output_type": "execute_result"
    }
   ],
   "source": [
    "df.isnull().sum()"
   ]
  },
  {
   "cell_type": "markdown",
   "id": "f0b26b61",
   "metadata": {},
   "source": [
    "- **Age**: There are 0 missing values in the Age column.\n",
    "- **Premium**: There are 0 missing values in the Premium column."
   ]
  },
  {
   "cell_type": "code",
   "execution_count": 6,
   "id": "fac6da52",
   "metadata": {},
   "outputs": [
    {
     "data": {
      "text/html": [
       "<div>\n",
       "<style scoped>\n",
       "    .dataframe tbody tr th:only-of-type {\n",
       "        vertical-align: middle;\n",
       "    }\n",
       "\n",
       "    .dataframe tbody tr th {\n",
       "        vertical-align: top;\n",
       "    }\n",
       "\n",
       "    .dataframe thead th {\n",
       "        text-align: right;\n",
       "    }\n",
       "</style>\n",
       "<table border=\"1\" class=\"dataframe\">\n",
       "  <thead>\n",
       "    <tr style=\"text-align: right;\">\n",
       "      <th></th>\n",
       "      <th>count</th>\n",
       "      <th>mean</th>\n",
       "      <th>std</th>\n",
       "      <th>min</th>\n",
       "      <th>25%</th>\n",
       "      <th>50%</th>\n",
       "      <th>75%</th>\n",
       "      <th>max</th>\n",
       "    </tr>\n",
       "  </thead>\n",
       "  <tbody>\n",
       "    <tr>\n",
       "      <th>Age</th>\n",
       "      <td>7.0</td>\n",
       "      <td>25.857143</td>\n",
       "      <td>5.273474</td>\n",
       "      <td>18.0</td>\n",
       "      <td>22.5</td>\n",
       "      <td>26.0</td>\n",
       "      <td>29.5</td>\n",
       "      <td>33.0</td>\n",
       "    </tr>\n",
       "    <tr>\n",
       "      <th>Premium</th>\n",
       "      <td>7.0</td>\n",
       "      <td>20214.285714</td>\n",
       "      <td>6283.955382</td>\n",
       "      <td>10000.0</td>\n",
       "      <td>16500.0</td>\n",
       "      <td>21000.0</td>\n",
       "      <td>25250.0</td>\n",
       "      <td>27000.0</td>\n",
       "    </tr>\n",
       "  </tbody>\n",
       "</table>\n",
       "</div>"
      ],
      "text/plain": [
       "         count          mean          std      min      25%      50%      75%  \\\n",
       "Age        7.0     25.857143     5.273474     18.0     22.5     26.0     29.5   \n",
       "Premium    7.0  20214.285714  6283.955382  10000.0  16500.0  21000.0  25250.0   \n",
       "\n",
       "             max  \n",
       "Age         33.0  \n",
       "Premium  27000.0  "
      ]
     },
     "execution_count": 6,
     "metadata": {},
     "output_type": "execute_result"
    }
   ],
   "source": [
    "df.describe().T"
   ]
  },
  {
   "cell_type": "markdown",
   "id": "557ac210",
   "metadata": {},
   "source": [
    "- **Age**: The ages in the dataset range from 18 to 33 years, with an average age of about 25.86 years. The distribution is relatively narrow, with most individuals falling between 22.5 and 29.5 years.\n",
    "\n",
    "- **Premium**: The premiums range from 10,000 to 27,000, with an average premium of about 20,214.29. The premiums show a wider spread, indicating a higher variability in the amounts paid."
   ]
  },
  {
   "cell_type": "markdown",
   "id": "c6afb2ff",
   "metadata": {},
   "source": [
    "<p style=\"font-family: 'Georgia', serif; font-size: 3rem; color: #2e8b57; text-align: center; margin: 0; text-shadow: 2px 2px 4px rgba(0, 0, 0, 0.3); background-color: #e0ffff; padding: 20px; border-radius: 20px; border: 7px solid #4682b4; width: 95%;\">\n",
    "    <span style=\"font-weight: bold; color: #2e8b57; animation: pulse 2s infinite;\">Exploratory Data Analysis</span>\n",
    "    <span style=\"font-style: italic; color: #4682b4; animation: pulse 2s infinite;\"></span>\n",
    "    <span style=\"font-weight: bold; color: #4682b4;\"></span>\n",
    "</p>\n"
   ]
  },
  {
   "cell_type": "code",
   "execution_count": 7,
   "id": "c0c4cb7d",
   "metadata": {},
   "outputs": [
    {
     "data": {
      "image/png": "[encoded data removed]",
      "text/plain": [
       "<Figure size 800x500 with 1 Axes>"
      ]
     },
     "metadata": {},
     "output_type": "display_data"
    }
   ],
   "source": [
    "# Analyze Age Distribution\n",
    "\n",
    "plt.figure(figsize=(8, 5))\n",
    "plt.hist(df[\"Age\"], bins=20, edgecolor=\"black\")\n",
    "plt.xlabel(\"Age\")\n",
    "plt.ylabel(\"Frequency\")\n",
    "plt.title(\"Distribution of Age\")\n",
    "plt.grid(True)\n",
    "plt.show()"
   ]
  },
  {
   "cell_type": "markdown",
   "id": "41b7431c",
   "metadata": {},
   "source": [
    "- **Uniform Distribution**: The ages in the dataset are uniformly distributed, with each age occurring exactly once. This means there is an equal representation of each age value within the dataset.\n",
    "- **Range of Ages**: The ages range from 18 to 33 years, as indicated by the bars on the x-axis.\n",
    "- **No Repetition**: Since each bar has a height of 1, there are no repeated ages in the dataset. Each age appears only once.\n",
    "This uniform distribution indicates that the dataset has a small and diverse range of ages, without any age being overrepresented."
   ]
  },
  {
   "cell_type": "code",
   "execution_count": 8,
   "id": "609bf178",
   "metadata": {},
   "outputs": [
    {
     "data": {
      "image/png": "[encoded data removed]",
      "text/plain": [
       "<Figure size 800x500 with 1 Axes>"
      ]
     },
     "metadata": {},
     "output_type": "display_data"
    }
   ],
   "source": [
    "# Analyze Premium Distribution\n",
    "\n",
    "plt.figure(figsize=(8, 5))\n",
    "plt.hist(df[\"Premium\"], bins=20, edgecolor=\"black\")\n",
    "plt.xlabel(\"Premium\")\n",
    "plt.ylabel(\"Frequency\")\n",
    "plt.title(\"Distribution of Premium\")\n",
    "plt.grid(True)\n",
    "plt.show()"
   ]
  },
  {
   "cell_type": "markdown",
   "id": "8a6e74db",
   "metadata": {},
   "source": [
    "- **Frequency of Premiums**: Most premium values (10000, 15000, 17500, 20000, 22500, 25000) occur exactly once, as indicated by the bars having a height of 1.\n",
    "- **Higher Frequency**: The premium value of 27000 appears twice, as indicated by the bar having a height of 2.\n",
    "- **Range of Premiums**: The premiums in the dataset range from 10000 to 27000.\n",
    "- **Distribution Pattern**: There is a relatively even distribution of premiums across the given range, with a slight peak at 27000.\n",
    "\n",
    "This distribution indicates that while most premium amounts are unique, the premium of 27000 is more common, appearing twice in the dataset."
   ]
  },
  {
   "cell_type": "code",
   "execution_count": 9,
   "id": "5355106a",
   "metadata": {},
   "outputs": [
    {
     "data": {
      "image/png": "[encoded data removed]",
      "text/plain": [
       "<Figure size 800x500 with 1 Axes>"
      ]
     },
     "metadata": {},
     "output_type": "display_data"
    }
   ],
   "source": [
    "# Relationship between Age and Premium\n",
    "\n",
    "plt.figure(figsize=(8, 5))\n",
    "plt.scatter(df[\"Age\"], df[\"Premium\"], alpha=0.7)\n",
    "plt.xlabel(\"Age\")\n",
    "plt.ylabel(\"Premium\")\n",
    "plt.title(\"Relationship Between Age and Premium\")\n",
    "plt.grid(True)\n",
    "plt.show()"
   ]
  },
  {
   "cell_type": "markdown",
   "id": "03d87599",
   "metadata": {},
   "source": [
    "- **Positive Relationship**: There appears to be a positive relationship between age and premium. As age increases, the premium tends to increase as well.\n",
    "- **Trend**: The data points suggest a linear trend, indicating that older individuals tend to have higher premiums.\n",
    "- **Outliers**: There are no significant outliers, as all points follow the general increasing trend.\n",
    "- **Range**: The ages range from 18 to 33, and the premiums range from 10000 to 27000.\n",
    "\n",
    "This scatter plot indicates a clear linear relationship between age and premium, where premiums tend to increase with age. This could imply that premium amounts are influenced by the age of the individuals."
   ]
  },
  {
   "cell_type": "code",
   "execution_count": 10,
   "id": "b9fe5120",
   "metadata": {},
   "outputs": [
    {
     "name": "stdout",
     "output_type": "stream",
     "text": [
      "Correlation Coefficient: 0.9843315554722871\n"
     ]
    }
   ],
   "source": [
    "# Calculate correlation coefficient (optional)\n",
    "\n",
    "correlation = df[\"Age\"].corr(df[\"Premium\"])\n",
    "print(\"Correlation Coefficient:\", correlation)\n"
   ]
  },
  {
   "cell_type": "markdown",
   "id": "37955971",
   "metadata": {},
   "source": [
    "The correlation coefficient is a statistical measure that indicates the strength and direction of the linear relationship between two variables. In this case, it measures the relationship between age and premium.\n",
    "\n",
    "The value of the correlation coefficient can range from -1 to 1.\n",
    "\n",
    "- A positive correlation coefficient indicates that as one variable increases, the other variable also tends to increase. \n",
    "(0 < r <= 1)\n",
    "\n",
    "- A negative correlation coefficient indicates that as one variable increases, the other variable tends to decrease. \n",
    "(-1 <= r < 0)\n",
    "\n",
    "A correlation coefficient of 0 indicates no linear relationship between the two variables.\n",
    "In your example, the correlation coefficient is 0.9843, which is very close to 1. This indicates a strong positive linear relationship between age and premium. In other words, as age increases, premium also tends to increase.\n",
    "\n",
    "It's important to note that correlation does not imply causation. \n",
    "Just because two variables are correlated does not mean that one variable causes the other. \n",
    "There could be a third factor that is causing both variables to change."
   ]
  },
  {
   "cell_type": "markdown",
   "id": "c759258b",
   "metadata": {},
   "source": [
    "<p style=\"font-family: 'Georgia', serif; font-size: 3rem; color: #2e8b57; text-align: center; margin: 0; text-shadow: 2px 2px 4px rgba(0, 0, 0, 0.3); background-color: #e0ffff; padding: 20px; border-radius: 20px; border: 7px solid #4682b4; width: 95%;\">\n",
    "    <span style=\"font-weight: bold; color: #2e8b57; animation: pulse 2s infinite;\">Pre-processing</span>\n",
    "    <span style=\"font-style: italic; color: #4682b4; animation: pulse 2s infinite;\"></span>\n",
    "    <span style=\"font-weight: bold; color: #4682b4;\"></span>\n",
    "</p>\n"
   ]
  },
  {
   "cell_type": "code",
   "execution_count": 11,
   "id": "008b2bf6",
   "metadata": {},
   "outputs": [],
   "source": [
    "X=df.drop('Premium',axis=1)\n",
    "y=df['Age']\n"
   ]
  },
  {
   "cell_type": "markdown",
   "id": "289908a1",
   "metadata": {},
   "source": [
    "<p style=\"font-family: 'Georgia', serif; font-size: 3rem; color: #2e8b57; text-align: center; margin: 0; text-shadow: 2px 2px 4px rgba(0, 0, 0, 0.3); background-color: #e0ffff; padding: 20px; border-radius: 20px; border: 7px solid #4682b4; width: 95%;\">\n",
    "    <span style=\"font-weight: bold; color: #2e8b57; animation: pulse 2s infinite;\">Splitting Data into Training and Testing Sets</span>\n",
    "    <span style=\"font-style: italic; color: #4682b4; animation: pulse 2s infinite;\"></span>\n",
    "    <span style=\"font-weight: bold; color: #4682b4;\"></span>\n",
    "</p>\n"
   ]
  },
  {
   "cell_type": "code",
   "execution_count": 12,
   "id": "2b5e7903",
   "metadata": {},
   "outputs": [],
   "source": [
    "from sklearn.model_selection import train_test_split"
   ]
  },
  {
   "cell_type": "code",
   "execution_count": 13,
   "id": "f3897316",
   "metadata": {},
   "outputs": [],
   "source": [
    "X_train,X_test,y_train,y_test=train_test_split(X,y,test_size=0.3)"
   ]
  },
  {
   "cell_type": "markdown",
   "id": "11b1f2ec",
   "metadata": {},
   "source": [
    "<p style=\"font-family: 'Georgia', serif; font-size: 3rem; color: #2e8b57; text-align: center; margin: 0; text-shadow: 2px 2px 4px rgba(0, 0, 0, 0.3); background-color: #e0ffff; padding: 20px; border-radius: 20px; border: 7px solid #4682b4; width: 95%;\">\n",
    "    <span style=\"font-weight: bold; color: #2e8b57; animation: pulse 2s infinite;\"> Linear Regression Model</span>\n",
    "    <span style=\"font-style: italic; color: #4682b4; animation: pulse 2s infinite;\"></span>\n",
    "    <span style=\"font-weight: bold; color: #4682b4;\"></span>\n",
    "</p>\n"
   ]
  },
  {
   "cell_type": "code",
   "execution_count": 14,
   "id": "ba683ad7",
   "metadata": {},
   "outputs": [],
   "source": [
    "from sklearn.linear_model import LinearRegression"
   ]
  },
  {
   "cell_type": "code",
   "execution_count": 15,
   "id": "629cdcd1",
   "metadata": {},
   "outputs": [],
   "source": [
    "LR=LinearRegression()"
   ]
  },
  {
   "cell_type": "code",
   "execution_count": 16,
   "id": "2dfdbfeb",
   "metadata": {},
   "outputs": [
    {
     "data": {
      "text/html": [
       "<style>#sk-container-id-1 {color: black;background-color: white;}#sk-container-id-1 pre{padding: 0;}#sk-container-id-1 div.sk-toggleable {background-color: white;}#sk-container-id-1 label.sk-toggleable__label {cursor: pointer;display: block;width: 100%;margin-bottom: 0;padding: 0.3em;box-sizing: border-box;text-align: center;}#sk-container-id-1 label.sk-toggleable__label-arrow:before {content: \"▸\";float: left;margin-right: 0.25em;color: #696969;}#sk-container-id-1 label.sk-toggleable__label-arrow:hover:before {color: black;}#sk-container-id-1 div.sk-estimator:hover label.sk-toggleable__label-arrow:before {color: black;}#sk-container-id-1 div.sk-toggleable__content {max-height: 0;max-width: 0;overflow: hidden;text-align: left;background-color: #f0f8ff;}#sk-container-id-1 div.sk-toggleable__content pre {margin: 0.2em;color: black;border-radius: 0.25em;background-color: #f0f8ff;}#sk-container-id-1 input.sk-toggleable__control:checked~div.sk-toggleable__content {max-height: 200px;max-width: 100%;overflow: auto;}#sk-container-id-1 input.sk-toggleable__control:checked~label.sk-toggleable__label-arrow:before {content: \"▾\";}#sk-container-id-1 div.sk-estimator input.sk-toggleable__control:checked~label.sk-toggleable__label {background-color: #d4ebff;}#sk-container-id-1 div.sk-label input.sk-toggleable__control:checked~label.sk-toggleable__label {background-color: #d4ebff;}#sk-container-id-1 input.sk-hidden--visually {border: 0;clip: rect(1px 1px 1px 1px);clip: rect(1px, 1px, 1px, 1px);height: 1px;margin: -1px;overflow: hidden;padding: 0;position: absolute;width: 1px;}#sk-container-id-1 div.sk-estimator {font-family: monospace;background-color: #f0f8ff;border: 1px dotted black;border-radius: 0.25em;box-sizing: border-box;margin-bottom: 0.5em;}#sk-container-id-1 div.sk-estimator:hover {background-color: #d4ebff;}#sk-container-id-1 div.sk-parallel-item::after {content: \"\";width: 100%;border-bottom: 1px solid gray;flex-grow: 1;}#sk-container-id-1 div.sk-label:hover label.sk-toggleable__label {background-color: #d4ebff;}#sk-container-id-1 div.sk-serial::before {content: \"\";position: absolute;border-left: 1px solid gray;box-sizing: border-box;top: 0;bottom: 0;left: 50%;z-index: 0;}#sk-container-id-1 div.sk-serial {display: flex;flex-direction: column;align-items: center;background-color: white;padding-right: 0.2em;padding-left: 0.2em;position: relative;}#sk-container-id-1 div.sk-item {position: relative;z-index: 1;}#sk-container-id-1 div.sk-parallel {display: flex;align-items: stretch;justify-content: center;background-color: white;position: relative;}#sk-container-id-1 div.sk-item::before, #sk-container-id-1 div.sk-parallel-item::before {content: \"\";position: absolute;border-left: 1px solid gray;box-sizing: border-box;top: 0;bottom: 0;left: 50%;z-index: -1;}#sk-container-id-1 div.sk-parallel-item {display: flex;flex-direction: column;z-index: 1;position: relative;background-color: white;}#sk-container-id-1 div.sk-parallel-item:first-child::after {align-self: flex-end;width: 50%;}#sk-container-id-1 div.sk-parallel-item:last-child::after {align-self: flex-start;width: 50%;}#sk-container-id-1 div.sk-parallel-item:only-child::after {width: 0;}#sk-container-id-1 div.sk-dashed-wrapped {border: 1px dashed gray;margin: 0 0.4em 0.5em 0.4em;box-sizing: border-box;padding-bottom: 0.4em;background-color: white;}#sk-container-id-1 div.sk-label label {font-family: monospace;font-weight: bold;display: inline-block;line-height: 1.2em;}#sk-container-id-1 div.sk-label-container {text-align: center;}#sk-container-id-1 div.sk-container {/* jupyter's `normalize.less` sets `[hidden] { display: none; }` but bootstrap.min.css set `[hidden] { display: none !important; }` so we also need the `!important` here to be able to override the default hidden behavior on the sphinx rendered scikit-learn.org. See: https://github.com/scikit-learn/scikit-learn/issues/21755 */display: inline-block !important;position: relative;}#sk-container-id-1 div.sk-text-repr-fallback {display: none;}</style><div id=\"sk-container-id-1\" class=\"sk-top-container\"><div class=\"sk-text-repr-fallback\"><pre>LinearRegression()</pre><b>In a Jupyter environment, please rerun this cell to show the HTML representation or trust the notebook. <br />On GitHub, the HTML representation is unable to render, please try loading this page with nbviewer.org.</b></div><div class=\"sk-container\" hidden><div class=\"sk-item\"><div class=\"sk-estimator sk-toggleable\"><input class=\"sk-toggleable__control sk-hidden--visually\" id=\"sk-estimator-id-1\" type=\"checkbox\" checked><label for=\"sk-estimator-id-1\" class=\"sk-toggleable__label sk-toggleable__label-arrow\">LinearRegression</label><div class=\"sk-toggleable__content\"><pre>LinearRegression()</pre></div></div></div></div></div>"
      ],
      "text/plain": [
       "LinearRegression()"
      ]
     },
     "execution_count": 16,
     "metadata": {},
     "output_type": "execute_result"
    }
   ],
   "source": [
    "LR.fit(X_train,y_train)"
   ]
  },
  {
   "cell_type": "code",
   "execution_count": 17,
   "id": "7966fa4e",
   "metadata": {},
   "outputs": [],
   "source": [
    "y_pred=LR.predict(X_test)"
   ]
  },
  {
   "cell_type": "markdown",
   "id": "ef66dd8a",
   "metadata": {},
   "source": [
    "<p style=\"font-family: 'Georgia', serif; font-size: 3rem; color: #2e8b57; text-align: center; margin: 0; text-shadow: 2px 2px 4px rgba(0, 0, 0, 0.3); background-color: #e0ffff; padding: 20px; border-radius: 20px; border: 7px solid #4682b4; width: 95%;\">\n",
    "    <span style=\"font-weight: bold; color: #2e8b57; animation: pulse 2s infinite;\">Evaluating Model Performance</span>\n",
    "    <span style=\"font-style: italic; color: #4682b4; animation: pulse 2s infinite;\"></span>\n",
    "    <span style=\"font-weight: bold; color: #4682b4;\"></span>\n",
    "</p>\n"
   ]
  },
  {
   "cell_type": "code",
   "execution_count": 22,
   "id": "04af9c1e",
   "metadata": {},
   "outputs": [],
   "source": [
    "from sklearn.metrics import r2_score,mean_squared_error,mean_absolute_error"
   ]
  },
  {
   "cell_type": "markdown",
   "id": "175a60de",
   "metadata": {},
   "source": [
    "### Mean Squared Error (MSE) \n",
    "\n",
    "1. **Definition**:\n",
    "   - Measures the average of the squared differences between estimated values and true values.\n",
    "\n",
    "2. **Purpose**:\n",
    "   - Serves as a risk function representing the expected value of the squared error loss.\n",
    "\n",
    "3. **Non-Negativity**:\n",
    "   - Always non-negative; values closer to zero indicate better accuracy.\n",
    "\n",
    "4. **Components**:\n",
    "   - **Second Moment of the Error**:\n",
    "     - The MSE is the second moment of the error about the origin.\n",
    "   - **Variance and Bias**:\n",
    "     - Incorporates both the variance of the estimator and its bias.\n",
    "\n",
    "5. **Range**:\n",
    "   - The range of MSE is from 0 to ∞, where 0 indicates a perfect model with no error."
   ]
  },
  {
   "cell_type": "code",
   "execution_count": 19,
   "id": "124663fd",
   "metadata": {},
   "outputs": [
    {
     "data": {
      "text/plain": [
       "8.414516322357459e-30"
      ]
     },
     "execution_count": 19,
     "metadata": {},
     "output_type": "execute_result"
    }
   ],
   "source": [
    "M=mean_squared_error(y_test,y_pred)\n",
    "M"
   ]
  },
  {
   "cell_type": "markdown",
   "id": "e60820de",
   "metadata": {},
   "source": [
    "### Mean Absolute Error (MAE) \n",
    "\n",
    "1. **Definition**:\n",
    "   - Calculates the average difference between the predicted values and the actual values.\n",
    "\n",
    "2. **Alternative Name**:\n",
    "   - Also known as scale-dependent accuracy, as it measures error on the same scale as the observations.\n",
    "\n",
    "3. **Usage in Machine Learning**:\n",
    "   - Serves as an evaluation metric for regression models.\n",
    "\n",
    "4. **Function**:\n",
    "   - Measures errors between actual values and values predicted by the model.\n",
    "\n",
    "5. **Range**:\n",
    "   - The range of MAE is from 0 to ∞, where 0 indicates a perfect model with no error.\n",
    "\n",
    "6. **Purpose**:\n",
    "   - Used to assess the accuracy of a machine learning model."
   ]
  },
  {
   "cell_type": "code",
   "execution_count": 20,
   "id": "13fab3e8",
   "metadata": {},
   "outputs": [
    {
     "data": {
      "text/plain": [
       "2.3684757858670005e-15"
      ]
     },
     "execution_count": 20,
     "metadata": {},
     "output_type": "execute_result"
    }
   ],
   "source": [
    "Absolute=mean_absolute_error(y_test,y_pred)\n",
    "Absolute"
   ]
  },
  {
   "cell_type": "markdown",
   "id": "cccf6bf2",
   "metadata": {},
   "source": [
    "##  Root Mean Squared Error (RMSE):\n",
    "1 **Definition**:\n",
    "   - The square root of the average of the squared differences between predicted values and actual values.\n",
    "   \n",
    "2  **Range**: \n",
    "  - From 0 to ∞, with 0 indicating no error.\n",
    "    \n",
    "3  **Interpretation**: \n",
    "   - Lower values indicate better model performance.\n",
    "\n"
   ]
  },
  {
   "cell_type": "code",
   "execution_count": 23,
   "id": "eb027966",
   "metadata": {},
   "outputs": [
    {
     "data": {
      "text/plain": [
       "2.9007785717557725e-15"
      ]
     },
     "execution_count": 23,
     "metadata": {},
     "output_type": "execute_result"
    }
   ],
   "source": [
    "from math import sqrt\n",
    "rms = sqrt(mean_squared_error(y_test, y_pred))\n",
    "rms\n"
   ]
  },
  {
   "cell_type": "markdown",
   "id": "ecfbf448",
   "metadata": {},
   "source": [
    "### R² Score \n",
    "\n",
    "1. **Definition**:\n",
    "   - The R² score, also known as the coefficient of determination, measures the proportion of the variance in the dependent variable that is predictable from the independent variables.\n",
    "\n",
    "2. **Purpose**:\n",
    "   - Indicates the goodness of fit of a regression model, showing how well the independent variables explain the variability of the dependent variable.\n",
    "\n",
    "3. **Interpretation**:\n",
    "   - Ranges from 0 to 1:\n",
    "     - **R² = 1**: Perfect fit, the model explains all the variability of the response data around its mean.\n",
    "     - **R² = 0**: The model does not explain any of the variability of the response data around its mean.\n",
    "     - **Negative R²**: Indicates that the model performs worse than a horizontal line (mean of the data).\n",
    "\n",
    "4. **Components**:\n",
    "   - **Total Sum of Squares (TSS)**:\n",
    "     - Measures the total variance in the dependent variable.\n",
    "   - **Residual Sum of Squares (RSS)**:\n",
    "     - Measures the variance in the dependent variable that is not explained by the model.\n",
    "\n",
    "5. **Calculation**:\n",
    "   - Formula: \n",
    "R \n",
    "2\n",
    " =1− \n",
    "(TSS/\n",
    "RSS)\n",
    "\n",
    "     Where:\n",
    "     - \\( RSS \\) is the sum of the squares of residuals.\n",
    "     - \\( TSS \\) is the total sum of squares.\n",
    "   \n",
    "   \n",
    "\n",
    "\n"
   ]
  },
  {
   "cell_type": "code",
   "execution_count": 21,
   "id": "4a6faeed",
   "metadata": {},
   "outputs": [
    {
     "data": {
      "text/plain": [
       "1.0"
      ]
     },
     "execution_count": 21,
     "metadata": {},
     "output_type": "execute_result"
    }
   ],
   "source": [
    "R2_score=r2_score(y_test,y_pred)\n",
    "R2_score"
   ]
  },
  {
   "cell_type": "markdown",
   "id": "fb8437fd",
   "metadata": {},
   "source": [
    "## Simple Linear Regression: A Comprehensive Overview\n",
    "\n",
    "1. **Definition**:\n",
    "   - Simple linear regression is a statistical method used to model the relationship between two variables by fitting a linear equation to observed data. One variable is considered the independent variable (predictor), and the other is the dependent variable (response).\n",
    "\n",
    "2. **Equation**:\n",
    "   - The equation of a simple linear regression line is \\( y = b_0 + b_1x \\), where:\n",
    "     - \\( y \\) is the dependent variable.\n",
    "     - \\( x \\) is the independent variable.\n",
    "     - \\( b_0 \\) is the y-intercept.\n",
    "     - \\( b_1 \\) is the slope of the line.\n",
    "\n",
    "3. **Assumptions**:\n",
    "   - **Linearity**: The relationship between the dependent and independent variables is linear.\n",
    "   - **Independence**: The observations are independent of each other.\n",
    "   - **Homoscedasticity**: The residuals (errors) have constant variance at every level of \\( x \\).\n",
    "   - **Normality**: The residuals of the model are normally distributed.\n",
    "\n",
    "4. **Purpose**:\n",
    "   - To predict the value of the dependent variable based on the value of the independent variable.\n",
    "   - To determine the strength and direction of the relationship between the variables.\n",
    "\n",
    "5. **Interpretation of Coefficients**:\n",
    "   - **Intercept (\\( b_0 \\))**: The expected value of \\( y \\) when \\( x \\) is zero.\n",
    "   - **Slope (\\( b_1 \\))**: The change in \\( y \\) for a one-unit change in \\( x \\). A positive slope indicates a positive relationship, while a negative slope indicates a negative relationship.\n",
    "\n",
    "6. **Evaluation**:\n",
    "   - The performance of a simple linear regression model is typically evaluated using metrics such as the Mean Squared Error (MSE), Root Mean Squared Error (RMSE), Mean Absolute Error (MAE), and R² Score.\n",
    "   - Residual plots are used to check for patterns that might suggest violations of model assumptions.\n",
    "\n",
    "7. **Applications**:\n",
    "   - Simple linear regression is widely used in various fields such as economics, biology, engineering, and social sciences to make predictions, understand relationships, and identify trends.\n",
    "\n",
    "8. **Advantages**:\n",
    "   - Easy to implement and interpret.\n",
    "   - Provides a clear mathematical relationship between two variables.\n",
    "\n",
    "9. **Limitations**:\n",
    "   - Only models linear relationships; cannot capture more complex, non-linear relationships.\n",
    "   - Sensitive to outliers, which can disproportionately affect the regression line.\n",
    "   - Assumes that the relationship between variables is stable and does not change over time.\n",
    "\n",
    "Simple linear regression is a foundational tool in statistical analysis and machine learning, providing valuable insights and predictions from data with a straightforward and interpretable approach."
   ]
  },
  {
   "cell_type": "code",
   "execution_count": null,
   "id": "5a9d9a2e",
   "metadata": {},
   "outputs": [],
   "source": []
  }
 ],
 "metadata": {
  "kernelspec": {
   "display_name": "Python 3 (ipykernel)",
   "language": "python",
   "name": "python3"
  },
  "language_info": {
   "codemirror_mode": {
    "name": "ipython",
    "version": 3
   },
   "file_extension": ".py",
   "mimetype": "text/x-python",
   "name": "python",
   "nbconvert_exporter": "python",
   "pygments_lexer": "ipython3",
   "version": "3.11.5"
  }
 },
 "nbformat": 4,
 "nbformat_minor": 5
}
